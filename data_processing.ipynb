{
 "cells": [
  {
   "cell_type": "markdown",
   "id": "bc03a563-923d-41c4-bd93-21e8128b4959",
   "metadata": {},
   "source": [
    "This data processing script collects 2 files, a \"questions\" file with a different question per line, and an \"answers\" file with an answer to each question per line. The script combines the 2 files into a data file with the correct format for fine-tuning the base model. It is recommended that you collect your data in this manner as this script can easily format your data to be ready for training"
   ]
  },
  {
   "cell_type": "code",
   "execution_count": null,
   "id": "c5a652b3-f1f3-4e89-afa6-ef390f5ea1ca",
   "metadata": {},
   "outputs": [],
   "source": [
    "def combine_files(file1_path, file2_path, output_path):\n",
    "    with open(file1_path, 'r') as file1, open(file2_path, 'r') as file2, open(output_path, 'w') as output_file:\n",
    "        lines_file1 = file1.readlines()\n",
    "        lines_file2 = file2.readlines()\n",
    "        \n",
    "        # Ensure both files have the same number of lines\n",
    "        if len(lines_file1) != len(lines_file2):\n",
    "            print(\"Error: The input files do not have the same number of lines.\")\n",
    "            return\n",
    "        \n",
    "        for i in range(len(lines_file1)):\n",
    "            inst_line = f\"<s>[INST] {lines_file1[i].strip()} [/INST] {lines_file2[i].strip()} </s>\\n\"\n",
    "            output_file.write(inst_line)\n",
    "\n",
    "file1_path = \"data/jarjar_sample_data_questions.txt\" # sample questions file\n",
    "file2_path = \"data/jarjar_sample_data_answers.txt\" # sample answers file\n",
    "output_path = \"data/jarjar_sample_data.txt\"\n",
    "combine_files(file1_path, file2_path, output_path)\n",
    "print(\"Combining files done!\")"
   ]
  },
  {
   "cell_type": "code",
   "execution_count": null,
   "id": "b5966c14-ba25-4247-bd67-8cd56f951f19",
   "metadata": {},
   "outputs": [],
   "source": [
    "# Displays contents of the finished data file\n",
    "with open(\"data/jarjar_sample_data.txt\", \"r\") as file:\n",
    "    contents = file.read()\n",
    "    print(contents)"
   ]
  }
 ],
 "metadata": {
  "kernelspec": {
   "display_name": "llama",
   "language": "python",
   "name": "llama"
  },
  "language_info": {
   "codemirror_mode": {
    "name": "ipython",
    "version": 3
   },
   "file_extension": ".py",
   "mimetype": "text/x-python",
   "name": "python",
   "nbconvert_exporter": "python",
   "pygments_lexer": "ipython3",
   "version": "3.11.9"
  }
 },
 "nbformat": 4,
 "nbformat_minor": 5
}
